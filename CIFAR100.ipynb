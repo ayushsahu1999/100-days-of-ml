{
  "nbformat": 4,
  "nbformat_minor": 0,
  "metadata": {
    "colab": {
      "name": "CIFAR100.ipynb",
      "provenance": [],
      "authorship_tag": "ABX9TyPJmD/Qn2XSD4ga01g/rAx7",
      "include_colab_link": true
    },
    "kernelspec": {
      "name": "python3",
      "display_name": "Python 3"
    },
    "accelerator": "GPU"
  },
  "cells": [
    {
      "cell_type": "markdown",
      "metadata": {
        "id": "view-in-github",
        "colab_type": "text"
      },
      "source": [
        "<a href=\"https://colab.research.google.com/github/ayushsahu1999/100-days-of-ml/blob/master/CIFAR100.ipynb\" target=\"_parent\"><img src=\"https://colab.research.google.com/assets/colab-badge.svg\" alt=\"Open In Colab\"/></a>"
      ]
    },
    {
      "cell_type": "code",
      "metadata": {
        "id": "-mIX_9YCRBl-",
        "colab_type": "code",
        "colab": {}
      },
      "source": [
        "import tensorflow as tf\n",
        "cifar_dataset = tf.keras.datasets.cifar100\n",
        "(x_train, y_train), (x_test, y_test) = cifar_dataset.load_data()"
      ],
      "execution_count": 1,
      "outputs": []
    },
    {
      "cell_type": "markdown",
      "metadata": {
        "id": "idF8rZyyR6Cr",
        "colab_type": "text"
      },
      "source": [
        "It consists of 32*32 colored images (num_samples, 32, 32, 3)\n",
        "It have 50,000 training and 10,000 test images."
      ]
    },
    {
      "cell_type": "code",
      "metadata": {
        "id": "PbiAoQH3SzQ0",
        "colab_type": "code",
        "colab": {}
      },
      "source": [
        "x_train = x_train / 255.0\n",
        "x_test = x_test / 255.0"
      ],
      "execution_count": 2,
      "outputs": []
    },
    {
      "cell_type": "code",
      "metadata": {
        "id": "66_rglFZTUDT",
        "colab_type": "code",
        "colab": {}
      },
      "source": [
        "model = tf.keras.models.Sequential([\n",
        "    tf.keras.layers.Conv2D(64, (3, 3), activation=tf.nn.relu, input_shape=(32, 32, 3)),\n",
        "    tf.keras.layers.MaxPooling2D(2, 2),\n",
        "    tf.keras.layers.Flatten(),\n",
        "    tf.keras.layers.Dense(512, activation=tf.nn.relu),\n",
        "    tf.keras.layers.Dense(100, activation=tf.nn.softmax)\n",
        "])"
      ],
      "execution_count": 3,
      "outputs": []
    },
    {
      "cell_type": "code",
      "metadata": {
        "id": "PeZBKHT_UhXn",
        "colab_type": "code",
        "colab": {
          "base_uri": "https://localhost:8080/",
          "height": 323
        },
        "outputId": "e49e82cf-5363-407a-c02f-1618be4f1329"
      },
      "source": [
        "model.compile(optimizer='adam', loss='sparse_categorical_crossentropy', metrics=['accuracy'])\n",
        "model.summary()"
      ],
      "execution_count": 4,
      "outputs": [
        {
          "output_type": "stream",
          "text": [
            "Model: \"sequential\"\n",
            "_________________________________________________________________\n",
            "Layer (type)                 Output Shape              Param #   \n",
            "=================================================================\n",
            "conv2d (Conv2D)              (None, 30, 30, 64)        1792      \n",
            "_________________________________________________________________\n",
            "max_pooling2d (MaxPooling2D) (None, 15, 15, 64)        0         \n",
            "_________________________________________________________________\n",
            "flatten (Flatten)            (None, 14400)             0         \n",
            "_________________________________________________________________\n",
            "dense (Dense)                (None, 512)               7373312   \n",
            "_________________________________________________________________\n",
            "dense_1 (Dense)              (None, 100)               51300     \n",
            "=================================================================\n",
            "Total params: 7,426,404\n",
            "Trainable params: 7,426,404\n",
            "Non-trainable params: 0\n",
            "_________________________________________________________________\n"
          ],
          "name": "stdout"
        }
      ]
    },
    {
      "cell_type": "code",
      "metadata": {
        "id": "itJmmUGaV4nn",
        "colab_type": "code",
        "colab": {}
      },
      "source": [
        "class myCallback(tf.keras.callbacks.Callback):\n",
        "  def on_epoch_end(self, epoch, logs={}):\n",
        "    if (logs.get('accuracy') > 0.95):\n",
        "      print (\"\\nAccuracy is now above 95% so stopping training!\")\n",
        "      self.model.stop_training = True\n",
        "\n",
        "callbacks = myCallback()"
      ],
      "execution_count": 5,
      "outputs": []
    },
    {
      "cell_type": "code",
      "metadata": {
        "id": "efx2izYfU0T6",
        "colab_type": "code",
        "colab": {
          "base_uri": "https://localhost:8080/",
          "height": 680
        },
        "outputId": "9a507668-2250-43d4-9e0c-b55b815a6c0b"
      },
      "source": [
        "model.fit(x_train, y_train, epochs=25, callbacks=[callbacks])"
      ],
      "execution_count": 6,
      "outputs": [
        {
          "output_type": "stream",
          "text": [
            "Epoch 1/25\n",
            "1563/1563 [==============================] - 5s 3ms/step - loss: 3.4882 - accuracy: 0.1822\n",
            "Epoch 2/25\n",
            "1563/1563 [==============================] - 5s 3ms/step - loss: 2.7271 - accuracy: 0.3218\n",
            "Epoch 3/25\n",
            "1563/1563 [==============================] - 5s 3ms/step - loss: 2.3487 - accuracy: 0.3991\n",
            "Epoch 4/25\n",
            "1563/1563 [==============================] - 5s 3ms/step - loss: 2.0284 - accuracy: 0.4683\n",
            "Epoch 5/25\n",
            "1563/1563 [==============================] - 5s 3ms/step - loss: 1.7304 - accuracy: 0.5340\n",
            "Epoch 6/25\n",
            "1563/1563 [==============================] - 5s 3ms/step - loss: 1.4477 - accuracy: 0.6023\n",
            "Epoch 7/25\n",
            "1563/1563 [==============================] - 5s 3ms/step - loss: 1.1859 - accuracy: 0.6666\n",
            "Epoch 8/25\n",
            "1563/1563 [==============================] - 5s 3ms/step - loss: 0.9458 - accuracy: 0.7320\n",
            "Epoch 9/25\n",
            "1563/1563 [==============================] - 5s 3ms/step - loss: 0.7476 - accuracy: 0.7859\n",
            "Epoch 10/25\n",
            "1563/1563 [==============================] - 5s 3ms/step - loss: 0.5853 - accuracy: 0.8318\n",
            "Epoch 11/25\n",
            "1563/1563 [==============================] - 5s 3ms/step - loss: 0.4633 - accuracy: 0.8668\n",
            "Epoch 12/25\n",
            "1563/1563 [==============================] - 5s 3ms/step - loss: 0.3657 - accuracy: 0.8931\n",
            "Epoch 13/25\n",
            "1563/1563 [==============================] - 5s 3ms/step - loss: 0.3068 - accuracy: 0.9111\n",
            "Epoch 14/25\n",
            "1563/1563 [==============================] - 5s 3ms/step - loss: 0.2610 - accuracy: 0.9239\n",
            "Epoch 15/25\n",
            "1563/1563 [==============================] - 5s 3ms/step - loss: 0.2128 - accuracy: 0.9377\n",
            "Epoch 16/25\n",
            "1563/1563 [==============================] - 5s 3ms/step - loss: 0.2032 - accuracy: 0.9403\n",
            "Epoch 17/25\n",
            "1563/1563 [==============================] - 5s 3ms/step - loss: 0.1743 - accuracy: 0.9489\n",
            "Epoch 18/25\n",
            "1563/1563 [==============================] - ETA: 0s - loss: 0.1705 - accuracy: 0.9501\n",
            "Accuracy is now above 95% so stopping training!\n",
            "1563/1563 [==============================] - 5s 3ms/step - loss: 0.1705 - accuracy: 0.9501\n"
          ],
          "name": "stdout"
        },
        {
          "output_type": "execute_result",
          "data": {
            "text/plain": [
              "<tensorflow.python.keras.callbacks.History at 0x7fb220316fd0>"
            ]
          },
          "metadata": {
            "tags": []
          },
          "execution_count": 6
        }
      ]
    },
    {
      "cell_type": "code",
      "metadata": {
        "id": "k2bl_U3LVNXj",
        "colab_type": "code",
        "colab": {
          "base_uri": "https://localhost:8080/",
          "height": 51
        },
        "outputId": "6f86090f-3235-4b99-af8a-207d4d0f330e"
      },
      "source": [
        "model.evaluate(x_test, y_test)"
      ],
      "execution_count": 7,
      "outputs": [
        {
          "output_type": "stream",
          "text": [
            "313/313 [==============================] - 1s 2ms/step - loss: 6.7613 - accuracy: 0.3064\n"
          ],
          "name": "stdout"
        },
        {
          "output_type": "execute_result",
          "data": {
            "text/plain": [
              "[6.761319637298584, 0.30640000104904175]"
            ]
          },
          "metadata": {
            "tags": []
          },
          "execution_count": 7
        }
      ]
    },
    {
      "cell_type": "code",
      "metadata": {
        "id": "r54k7x5tXrP8",
        "colab_type": "code",
        "colab": {
          "base_uri": "https://localhost:8080/",
          "height": 34
        },
        "outputId": "e45626f2-518a-45d9-d535-abb7635f8803"
      },
      "source": [
        "import numpy as np\n",
        "image = 1\n",
        "answer = np.argmax(model.predict(x_test[image].reshape(1, 32, 32, 3)), axis=-1)\n",
        "print (answer.squeeze())"
      ],
      "execution_count": 13,
      "outputs": [
        {
          "output_type": "stream",
          "text": [
            "97\n"
          ],
          "name": "stdout"
        }
      ]
    },
    {
      "cell_type": "code",
      "metadata": {
        "id": "BEBxSJOyYxA-",
        "colab_type": "code",
        "colab": {
          "base_uri": "https://localhost:8080/",
          "height": 283
        },
        "outputId": "e17815a0-5603-4255-84ba-1645fa02fabb"
      },
      "source": [
        "import matplotlib.pyplot as plt\n",
        "plt.imshow(x_test[image].reshape(32, 32, 3))"
      ],
      "execution_count": 14,
      "outputs": [
        {
          "output_type": "execute_result",
          "data": {
            "text/plain": [
              "<matplotlib.image.AxesImage at 0x7fb19a918390>"
            ]
          },
          "metadata": {
            "tags": []
          },
          "execution_count": 14
        },
        {
          "output_type": "display_data",
          "data": {
            "image/png": "[encoded data removed]",
            "text/plain": [
              "<Figure size 432x288 with 1 Axes>"
            ]
          },
          "metadata": {
            "tags": [],
            "needs_background": "light"
          }
        }
      ]
    },
    {
      "cell_type": "code",
      "metadata": {
        "id": "7k13MyIfZMA6",
        "colab_type": "code",
        "colab": {}
      },
      "source": [
        ""
      ],
      "execution_count": null,
      "outputs": []
    }
  ]
}