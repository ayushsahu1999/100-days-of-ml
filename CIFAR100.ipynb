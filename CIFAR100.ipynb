{
  "nbformat": 4,
  "nbformat_minor": 0,
  "metadata": {
    "colab": {
      "name": "CIFAR100.ipynb",
      "provenance": [],
      "authorship_tag": "ABX9TyMEzqq8oJrkPKVFR6t0sKsK",
      "include_colab_link": true
    },
    "kernelspec": {
      "name": "python3",
      "display_name": "Python 3"
    },
    "accelerator": "GPU"
  },
  "cells": [
    {
      "cell_type": "markdown",
      "metadata": {
        "id": "view-in-github",
        "colab_type": "text"
      },
      "source": [
        "<a href=\"https://colab.research.google.com/github/ayushsahu1999/100-days-of-ml/blob/master/CIFAR100.ipynb\" target=\"_parent\"><img src=\"https://colab.research.google.com/assets/colab-badge.svg\" alt=\"Open In Colab\"/></a>"
      ]
    },
    {
      "cell_type": "code",
      "metadata": {
        "id": "-mIX_9YCRBl-",
        "colab_type": "code",
        "colab": {}
      },
      "source": [
        "import tensorflow as tf\n",
        "cifar_dataset = tf.keras.datasets.cifar100\n",
        "(x_train, y_train), (x_test, y_test) = cifar_dataset.load_data()"
      ],
      "execution_count": 1,
      "outputs": []
    },
    {
      "cell_type": "markdown",
      "metadata": {
        "id": "idF8rZyyR6Cr",
        "colab_type": "text"
      },
      "source": [
        "It consists of 32*32 colored images (num_samples, 32, 32, 3)\n",
        "It have 50,000 training and 10,000 test images."
      ]
    },
    {
      "cell_type": "code",
      "metadata": {
        "id": "PbiAoQH3SzQ0",
        "colab_type": "code",
        "colab": {}
      },
      "source": [
        "x_train = x_train / 255.0\n",
        "x_test = x_test / 255.0"
      ],
      "execution_count": 2,
      "outputs": []
    },
    {
      "cell_type": "code",
      "metadata": {
        "id": "66_rglFZTUDT",
        "colab_type": "code",
        "colab": {}
      },
      "source": [
        "model = tf.keras.models.Sequential([\n",
        "    tf.keras.layers.Conv2D(64, (3, 3), activation=tf.nn.relu, input_shape=(32, 32, 3)),\n",
        "    tf.keras.layers.MaxPooling2D(2, 2),\n",
        "    tf.keras.layers.Conv2D(64, (3, 3), activation=tf.nn.relu),\n",
        "    tf.keras.layers.MaxPooling2D(2, 2),\n",
        "    tf.keras.layers.Flatten(),\n",
        "    tf.keras.layers.Dense(256, activation=tf.nn.relu),\n",
        "    tf.keras.layers.Dense(100, activation=tf.nn.softmax)\n",
        "])"
      ],
      "execution_count": 5,
      "outputs": []
    },
    {
      "cell_type": "code",
      "metadata": {
        "id": "PeZBKHT_UhXn",
        "colab_type": "code",
        "colab": {
          "base_uri": "https://localhost:8080/",
          "height": 391
        },
        "outputId": "0cf39309-b1f5-4f91-b363-6fd37aa448bd"
      },
      "source": [
        "model.compile(optimizer='adam', loss='sparse_categorical_crossentropy', metrics=['accuracy'])\n",
        "model.summary()"
      ],
      "execution_count": 6,
      "outputs": [
        {
          "output_type": "stream",
          "text": [
            "Model: \"sequential_1\"\n",
            "_________________________________________________________________\n",
            "Layer (type)                 Output Shape              Param #   \n",
            "=================================================================\n",
            "conv2d_1 (Conv2D)            (None, 30, 30, 64)        1792      \n",
            "_________________________________________________________________\n",
            "max_pooling2d_1 (MaxPooling2 (None, 15, 15, 64)        0         \n",
            "_________________________________________________________________\n",
            "conv2d_2 (Conv2D)            (None, 13, 13, 64)        36928     \n",
            "_________________________________________________________________\n",
            "max_pooling2d_2 (MaxPooling2 (None, 6, 6, 64)          0         \n",
            "_________________________________________________________________\n",
            "flatten_1 (Flatten)          (None, 2304)              0         \n",
            "_________________________________________________________________\n",
            "dense_2 (Dense)              (None, 256)               590080    \n",
            "_________________________________________________________________\n",
            "dense_3 (Dense)              (None, 100)               25700     \n",
            "=================================================================\n",
            "Total params: 654,500\n",
            "Trainable params: 654,500\n",
            "Non-trainable params: 0\n",
            "_________________________________________________________________\n"
          ],
          "name": "stdout"
        }
      ]
    },
    {
      "cell_type": "code",
      "metadata": {
        "id": "itJmmUGaV4nn",
        "colab_type": "code",
        "colab": {}
      },
      "source": [
        "class myCallback(tf.keras.callbacks.Callback):\n",
        "  def on_epoch_end(self, epoch, logs={}):\n",
        "    if (logs.get('accuracy') > 0.995):\n",
        "      print (\"\\nAccuracy is now above 99.5% so stopping training!\")\n",
        "      self.model.stop_training = True\n",
        "\n",
        "callbacks = myCallback()"
      ],
      "execution_count": 7,
      "outputs": []
    },
    {
      "cell_type": "code",
      "metadata": {
        "id": "efx2izYfU0T6",
        "colab_type": "code",
        "colab": {
          "base_uri": "https://localhost:8080/",
          "height": 887
        },
        "outputId": "309e5c52-4dd2-4508-cc3c-2db4d34d5021"
      },
      "source": [
        "history = model.fit(x_train, y_train, epochs=25, callbacks=[callbacks], validation_split=0.2)"
      ],
      "execution_count": 8,
      "outputs": [
        {
          "output_type": "stream",
          "text": [
            "Epoch 1/25\n",
            "1250/1250 [==============================] - 4s 3ms/step - loss: 3.7107 - accuracy: 0.1382 - val_loss: 3.2308 - val_accuracy: 0.2190\n",
            "Epoch 2/25\n",
            "1250/1250 [==============================] - 4s 3ms/step - loss: 2.9829 - accuracy: 0.2693 - val_loss: 2.9344 - val_accuracy: 0.2796\n",
            "Epoch 3/25\n",
            "1250/1250 [==============================] - 4s 3ms/step - loss: 2.6550 - accuracy: 0.3352 - val_loss: 2.7983 - val_accuracy: 0.3181\n",
            "Epoch 4/25\n",
            "1250/1250 [==============================] - 4s 3ms/step - loss: 2.4240 - accuracy: 0.3814 - val_loss: 2.7169 - val_accuracy: 0.3346\n",
            "Epoch 5/25\n",
            "1250/1250 [==============================] - 4s 3ms/step - loss: 2.2250 - accuracy: 0.4260 - val_loss: 2.7465 - val_accuracy: 0.3350\n",
            "Epoch 6/25\n",
            "1250/1250 [==============================] - 4s 3ms/step - loss: 2.0620 - accuracy: 0.4567 - val_loss: 2.7304 - val_accuracy: 0.3456\n",
            "Epoch 7/25\n",
            "1250/1250 [==============================] - 4s 3ms/step - loss: 1.9072 - accuracy: 0.4923 - val_loss: 2.8044 - val_accuracy: 0.3516\n",
            "Epoch 8/25\n",
            "1250/1250 [==============================] - 4s 3ms/step - loss: 1.7628 - accuracy: 0.5255 - val_loss: 2.9043 - val_accuracy: 0.3515\n",
            "Epoch 9/25\n",
            "1250/1250 [==============================] - 4s 3ms/step - loss: 1.6326 - accuracy: 0.5525 - val_loss: 2.9957 - val_accuracy: 0.3322\n",
            "Epoch 10/25\n",
            "1250/1250 [==============================] - 4s 3ms/step - loss: 1.5098 - accuracy: 0.5829 - val_loss: 3.0942 - val_accuracy: 0.3346\n",
            "Epoch 11/25\n",
            "1250/1250 [==============================] - 4s 3ms/step - loss: 1.3895 - accuracy: 0.6111 - val_loss: 3.3110 - val_accuracy: 0.3315\n",
            "Epoch 12/25\n",
            "1250/1250 [==============================] - 4s 3ms/step - loss: 1.2686 - accuracy: 0.6429 - val_loss: 3.3846 - val_accuracy: 0.3280\n",
            "Epoch 13/25\n",
            "1250/1250 [==============================] - 4s 3ms/step - loss: 1.1691 - accuracy: 0.6679 - val_loss: 3.5937 - val_accuracy: 0.3255\n",
            "Epoch 14/25\n",
            "1250/1250 [==============================] - 4s 3ms/step - loss: 1.0734 - accuracy: 0.6911 - val_loss: 3.8014 - val_accuracy: 0.3289\n",
            "Epoch 15/25\n",
            "1250/1250 [==============================] - 4s 3ms/step - loss: 0.9792 - accuracy: 0.7137 - val_loss: 3.9536 - val_accuracy: 0.3175\n",
            "Epoch 16/25\n",
            "1250/1250 [==============================] - 4s 3ms/step - loss: 0.8993 - accuracy: 0.7343 - val_loss: 4.2258 - val_accuracy: 0.3172\n",
            "Epoch 17/25\n",
            "1250/1250 [==============================] - 4s 3ms/step - loss: 0.8214 - accuracy: 0.7552 - val_loss: 4.4989 - val_accuracy: 0.3100\n",
            "Epoch 18/25\n",
            "1250/1250 [==============================] - 4s 3ms/step - loss: 0.7477 - accuracy: 0.7748 - val_loss: 4.6434 - val_accuracy: 0.3104\n",
            "Epoch 19/25\n",
            "1250/1250 [==============================] - 4s 3ms/step - loss: 0.6937 - accuracy: 0.7876 - val_loss: 4.9147 - val_accuracy: 0.3040\n",
            "Epoch 20/25\n",
            "1250/1250 [==============================] - 4s 3ms/step - loss: 0.6212 - accuracy: 0.8093 - val_loss: 5.1937 - val_accuracy: 0.3063\n",
            "Epoch 21/25\n",
            "1250/1250 [==============================] - 4s 3ms/step - loss: 0.5826 - accuracy: 0.8200 - val_loss: 5.5952 - val_accuracy: 0.3055\n",
            "Epoch 22/25\n",
            "1250/1250 [==============================] - 4s 3ms/step - loss: 0.5295 - accuracy: 0.8340 - val_loss: 5.8712 - val_accuracy: 0.2998\n",
            "Epoch 23/25\n",
            "1250/1250 [==============================] - 4s 3ms/step - loss: 0.4949 - accuracy: 0.8434 - val_loss: 6.3622 - val_accuracy: 0.2979\n",
            "Epoch 24/25\n",
            "1250/1250 [==============================] - 4s 3ms/step - loss: 0.4590 - accuracy: 0.8540 - val_loss: 6.3822 - val_accuracy: 0.2988\n",
            "Epoch 25/25\n",
            "1250/1250 [==============================] - 4s 3ms/step - loss: 0.4183 - accuracy: 0.8659 - val_loss: 6.7978 - val_accuracy: 0.2984\n"
          ],
          "name": "stdout"
        }
      ]
    },
    {
      "cell_type": "code",
      "metadata": {
        "id": "k2bl_U3LVNXj",
        "colab_type": "code",
        "colab": {
          "base_uri": "https://localhost:8080/",
          "height": 51
        },
        "outputId": "d61de0f1-79ea-4505-e8d7-9b26aaa6617e"
      },
      "source": [
        "model.evaluate(x_test, y_test)"
      ],
      "execution_count": 9,
      "outputs": [
        {
          "output_type": "stream",
          "text": [
            "313/313 [==============================] - 1s 2ms/step - loss: 6.7050 - accuracy: 0.3030\n"
          ],
          "name": "stdout"
        },
        {
          "output_type": "execute_result",
          "data": {
            "text/plain": [
              "[6.705004692077637, 0.30300000309944153]"
            ]
          },
          "metadata": {
            "tags": []
          },
          "execution_count": 9
        }
      ]
    },
    {
      "cell_type": "code",
      "metadata": {
        "id": "j0ff0PuiJU0X",
        "colab_type": "code",
        "colab": {
          "base_uri": "https://localhost:8080/",
          "height": 312
        },
        "outputId": "b1dd8b52-8d19-497b-99e5-29f038b9606a"
      },
      "source": [
        "import matplotlib.pyplot as plt\n",
        "plt.plot(history.history['val_loss'])\n",
        "plt.title('Validation Loss')\n",
        "plt.xlabel('No of epoch')\n",
        "plt.ylabel('Loss')"
      ],
      "execution_count": 10,
      "outputs": [
        {
          "output_type": "execute_result",
          "data": {
            "text/plain": [
              "Text(0, 0.5, 'Loss')"
            ]
          },
          "metadata": {
            "tags": []
          },
          "execution_count": 10
        },
        {
          "output_type": "display_data",
          "data": {
            "image/png": "[encoded data removed]",
            "text/plain": [
              "<Figure size 432x288 with 1 Axes>"
            ]
          },
          "metadata": {
            "tags": [],
            "needs_background": "light"
          }
        }
      ]
    },
    {
      "cell_type": "code",
      "metadata": {
        "id": "YCMEZHpZKTV1",
        "colab_type": "code",
        "colab": {
          "base_uri": "https://localhost:8080/",
          "height": 312
        },
        "outputId": "2cd09192-8892-442e-c983-9738c28e5629"
      },
      "source": [
        "plt.plot(history.history['loss'])\n",
        "plt.title('Training Loss')\n",
        "plt.xlabel('No of epoch')\n",
        "plt.ylabel('Loss')"
      ],
      "execution_count": 11,
      "outputs": [
        {
          "output_type": "execute_result",
          "data": {
            "text/plain": [
              "Text(0, 0.5, 'Loss')"
            ]
          },
          "metadata": {
            "tags": []
          },
          "execution_count": 11
        },
        {
          "output_type": "display_data",
          "data": {
            "image/png": "[encoded data removed]",
            "text/plain": [
              "<Figure size 432x288 with 1 Axes>"
            ]
          },
          "metadata": {
            "tags": [],
            "needs_background": "light"
          }
        }
      ]
    },
    {
      "cell_type": "code",
      "metadata": {
        "id": "GnescAzZK1ne",
        "colab_type": "code",
        "colab": {
          "base_uri": "https://localhost:8080/",
          "height": 312
        },
        "outputId": "dfb3ca95-77a5-4a55-ff16-ab8e30ad11ee"
      },
      "source": [
        "plt.plot(history.history['val_accuracy'])\n",
        "plt.title('Training accuracy')\n",
        "plt.xlabel('No of epoch')\n",
        "plt.ylabel('Accuracy')"
      ],
      "execution_count": 12,
      "outputs": [
        {
          "output_type": "execute_result",
          "data": {
            "text/plain": [
              "Text(0, 0.5, 'Accuracy')"
            ]
          },
          "metadata": {
            "tags": []
          },
          "execution_count": 12
        },
        {
          "output_type": "display_data",
          "data": {
            "image/png": "[encoded data removed]",
            "text/plain": [
              "<Figure size 432x288 with 1 Axes>"
            ]
          },
          "metadata": {
            "tags": [],
            "needs_background": "light"
          }
        }
      ]
    },
    {
      "cell_type": "code",
      "metadata": {
        "id": "b2RitgicK8zx",
        "colab_type": "code",
        "colab": {
          "base_uri": "https://localhost:8080/",
          "height": 312
        },
        "outputId": "8a0d1612-3487-4c38-9dbc-a7d2973993aa"
      },
      "source": [
        "plt.plot(history.history['accuracy'])\n",
        "plt.title('Training Accuracy')\n",
        "plt.xlabel('No of epoch')\n",
        "plt.ylabel('Accuracy')"
      ],
      "execution_count": 13,
      "outputs": [
        {
          "output_type": "execute_result",
          "data": {
            "text/plain": [
              "Text(0, 0.5, 'Accuracy')"
            ]
          },
          "metadata": {
            "tags": []
          },
          "execution_count": 13
        },
        {
          "output_type": "display_data",
          "data": {
            "image/png": "[encoded data removed]",
            "text/plain": [
              "<Figure size 432x288 with 1 Axes>"
            ]
          },
          "metadata": {
            "tags": [],
            "needs_background": "light"
          }
        }
      ]
    },
    {
      "cell_type": "code",
      "metadata": {
        "id": "r54k7x5tXrP8",
        "colab_type": "code",
        "colab": {
          "base_uri": "https://localhost:8080/",
          "height": 300
        },
        "outputId": "13d03a37-f53a-4f21-bb45-ee668d6eeea3"
      },
      "source": [
        "import numpy as np\n",
        "image = 5000\n",
        "answer = np.argmax(model.predict(x_test[image].reshape(1, 32, 32, 3)), axis=-1)\n",
        "print (answer.squeeze())\n",
        "\n",
        "plt.imshow(x_test[image].reshape(32, 32, 3))"
      ],
      "execution_count": null,
      "outputs": [
        {
          "output_type": "stream",
          "text": [
            "59\n"
          ],
          "name": "stdout"
        },
        {
          "output_type": "execute_result",
          "data": {
            "text/plain": [
              "<matplotlib.image.AxesImage at 0x7f140172e390>"
            ]
          },
          "metadata": {
            "tags": []
          },
          "execution_count": 54
        },
        {
          "output_type": "display_data",
          "data": {
            "image/png": "[encoded data removed]",
            "text/plain": [
              "<Figure size 432x288 with 1 Axes>"
            ]
          },
          "metadata": {
            "tags": [],
            "needs_background": "light"
          }
        }
      ]
    },
    {
      "cell_type": "code",
      "metadata": {
        "id": "7k13MyIfZMA6",
        "colab_type": "code",
        "colab": {
          "base_uri": "https://localhost:8080/",
          "height": 268
        },
        "outputId": "c4abe3f1-12d7-4034-eb7c-e8956494904a"
      },
      "source": [
        "import matplotlib.pyplot as plt\n",
        "f, axarr = plt.subplots(3, 2)\n",
        "FIRST_IMAGE = 45\n",
        "SECOND_IMAGE = 10\n",
        "THIRD_IMAGE = 5000\n",
        "CONVOLUTION_NUMBER = 10\n",
        "\n",
        "from tensorflow.keras import models\n",
        "layer_outputs = [layer.output for layer in model.layers]\n",
        "activation_model = tf.keras.models.Model(inputs=model.input, outputs=layer_outputs)\n",
        "\n",
        "for x in range(0, 2):\n",
        "  f1 = activation_model.predict(x_test[FIRST_IMAGE].reshape(1, 32, 32, 3))[x]\n",
        "  axarr[0, x].imshow(f1[0, :, :, CONVOLUTION_NUMBER])\n",
        "  axarr[0, x].grid = False\n",
        "  f2 = activation_model.predict(x_test[SECOND_IMAGE].reshape(1, 32, 32, 3))[x]\n",
        "  axarr[1, x].imshow(f2[0, :, :, CONVOLUTION_NUMBER])\n",
        "  axarr[1, x].grid = False\n",
        "  f3 = activation_model.predict(x_test[THIRD_IMAGE].reshape(1, 32, 32, 3))[x]\n",
        "  axarr[2, x].imshow(f3[0, :, :, CONVOLUTION_NUMBER])\n",
        "  axarr[2, x].grid = False"
      ],
      "execution_count": null,
      "outputs": [
        {
          "output_type": "display_data",
          "data": {
            "image/png": "[encoded data removed]",
            "text/plain": [
              "<Figure size 432x288 with 6 Axes>"
            ]
          },
          "metadata": {
            "tags": [],
            "needs_background": "light"
          }
        }
      ]
    },
    {
      "cell_type": "code",
      "metadata": {
        "id": "51bfXatIs_c8",
        "colab_type": "code",
        "colab": {}
      },
      "source": [
        "# As you can see, our CIFAR-100 image classifier performs worse than the CIFAR-10 one. \n",
        "# This is not strange: the CIFAR-100 one has ten times as many classes that it can choose from.\n",
        "\n",
        "# Neither is it strange that we observe overfitting again, by looking at the plot that displays validation loss.\n",
        "# Our best model, with an accuracy of just above 35%, is achieved around epoch number 20. After then, performance deteriorates."
      ],
      "execution_count": null,
      "outputs": []
    }
  ]
}